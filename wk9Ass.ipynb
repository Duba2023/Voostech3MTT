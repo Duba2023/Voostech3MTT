{
 "cells": [
  {
   "cell_type": "code",
   "execution_count": null,
   "id": "fb0b5fda-5a42-4dac-9234-2ffb68dfeaa7",
   "metadata": {},
   "outputs": [],
   "source": [
    "import pandas as pd\n",
    "import numpy as np\n",
    "from sklearn.impute import SimpleImputer, KNNImputer\n",
    "from sklearn.model_selection import train_test_split\n",
    "from sklearn.linear_model import LinearRegression\n",
    "from sklearn.metrics import mean_squared_error\n",
    "import matplotlib.pyplot as plt\n",
    "\n"
   ]
  },
  {
   "cell_type": "code",
   "execution_count": null,
   "id": "b54658bd-e2aa-4e1d-b7b3-c0f0446485c0",
   "metadata": {},
   "outputs": [],
   "source": [
    "# Load dataset\n",
    "df = pd.read_csv('health_data.csv')\n",
    "# Initial data inspection\n",
    "print(df.isnull().sum())\n"
   ]
  },
  {
   "cell_type": "code",
   "execution_count": null,
   "id": "13c5050d-dd97-4ba1-bba6-36d55cc629f3",
   "metadata": {},
   "outputs": [],
   "source": [
    "# Mean imputation\n",
    "mean_imputer = SimpleImputer(strategy='mean')\n",
    "df_mean_imputed = pd.DataFrame(mean_imputer.fit_transform(df), columns=df.columns)\n"
   ]
  },
  {
   "cell_type": "code",
   "execution_count": null,
   "id": "ec410fd8-44c1-4478-900f-8df9b90f4ba0",
   "metadata": {},
   "outputs": [],
   "source": [
    "# KNN imputation\n",
    "knn_imputer = KNNImputer(n_neighbors=5)\n",
    "df_knn_imputed = pd.DataFrame(knn_imputer.fit_transform(df), columns=df.columns)\n"
   ]
  },
  {
   "cell_type": "code",
   "execution_count": null,
   "id": "9598258e-9eaa-4be7-a913-4ca815584172",
   "metadata": {},
   "outputs": [],
   "source": [
    "# Separate the dataset into one with missing values and one without\n",
    "df_with_cholesterol = df.dropna(subset=['cholesterol'])\n",
    "df_missing_cholesterol = df[df['cholesterol'].isnull()]\n",
    "\n",
    "# Train a linear regression model\n",
    "X = df_with_cholesterol.drop('cholesterol', axis=1)\n",
    "y = df_with_cholesterol['cholesterol']\n",
    "regressor = LinearRegression()\n",
    "regressor.fit(X, y)\n",
    "\n",
    "# Predict missing cholesterol values\n",
    "predicted_cholesterol = regressor.predict(df_missing_cholesterol.drop('cholesterol', axis=1))\n",
    "df.loc[df['cholesterol'].isnull(), 'cholesterol'] = predicted_cholesterol\n"
   ]
  },
  {
   "cell_type": "code",
   "execution_count": null,
   "id": "00fdc1e0-bc77-4986-8f65-fcb5702121a9",
   "metadata": {},
   "outputs": [],
   "source": [
    "# Function to calculate MSE after imputation\n",
    "def calculate_mse(data, target):\n",
    "    X_train, X_test, y_train, y_test = train_test_split(data.drop(target, axis=1), data[target], test_size=0.2, random_state=42)\n",
    "    model = LinearRegression()\n",
    "    model.fit(X_train, y_train)\n",
    "    predictions = model.predict(X_test)\n",
    "    return mean_squared_error(y_test, predictions)\n",
    "\n",
    "# Calculate and compare MSE\n",
    "mse_original = calculate_mse(df.dropna(), 'weight')  # Assuming dropping missing values as baseline\n",
    "mse_mean = calculate_mse(df_mean_imputed, 'weight')\n",
    "mse_knn = calculate_mse(df_knn_imputed, 'weight')\n",
    "mse_regression = calculate_mse(df, 'weight')  # After regression imputation\n",
    "\n",
    "# Plotting the MSEs for comparison\n",
    "plt.bar(['Original', 'Mean', 'KNN', 'Regression'], [mse_original, mse_mean, mse_knn, mse_regression])\n",
    "plt.ylabel('MSE')\n",
    "plt.title('MSE Comparison Among Imputation Methods')\n",
    "plt.show()\n"
   ]
  },
  {
   "cell_type": "code",
   "execution_count": null,
   "id": "69ebd291-6331-478f-b387-2a308d1bf75d",
   "metadata": {},
   "outputs": [],
   "source": []
  }
 ],
 "metadata": {
  "kernelspec": {
   "display_name": "Python 3 (ipykernel)",
   "language": "python",
   "name": "python3"
  },
  "language_info": {
   "codemirror_mode": {
    "name": "ipython",
    "version": 3
   },
   "file_extension": ".py",
   "mimetype": "text/x-python",
   "name": "python",
   "nbconvert_exporter": "python",
   "pygments_lexer": "ipython3",
   "version": "3.11.5"
  }
 },
 "nbformat": 4,
 "nbformat_minor": 5
}
