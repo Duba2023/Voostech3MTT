{
 "cells": [
  {
   "cell_type": "code",
   "execution_count": 1,
   "id": "cb64b12a-b802-4111-abbf-8ad8ad7c7917",
   "metadata": {
    "tags": []
   },
   "outputs": [],
   "source": [
    "import pandas as pd\n",
    "from sklearn.impute import SimpleImputer, KNNImputer\n",
    "\n",
    "\n",
    "\n",
    "# Example DataFrame with missing values\n",
    "data = {\n",
    "    'Age': [25, 27, 29, 31, None],\n",
    "    'YearsAtCompany': [3, 4, None, 2, 4],\n",
    "    'JobSatisfaction': [None, 7, 8, 9, 6],\n",
    "    'Salary': [50000, None, 54000, 58000, 60000]\n",
    "}\n",
    "EmployeeData = pd.DataFrame(data)\n",
    "\n",
    "\n"
   ]
  },
  {
   "cell_type": "code",
   "execution_count": 7,
   "id": "215e16ab-8138-460d-8f66-cd8edfc23314",
   "metadata": {
    "tags": []
   },
   "outputs": [
    {
     "name": "stdout",
     "output_type": "stream",
     "text": [
      "    Age  YearsAtCompany  JobSatisfaction   Salary\n",
      "0  25.0             3.0              NaN  50000.0\n",
      "1  27.0             4.0              7.0      NaN\n",
      "2  29.0             NaN              8.0  54000.0\n",
      "3  31.0             2.0              9.0  58000.0\n",
      "4   NaN             4.0              6.0  60000.0\n"
     ]
    }
   ],
   "source": [
    "print(EmployeeData)"
   ]
  },
  {
   "cell_type": "code",
   "execution_count": 8,
   "id": "27f38e45-cc3c-4f41-b31d-c238a35d8aa9",
   "metadata": {
    "tags": []
   },
   "outputs": [],
   "source": [
    "# Mean Imputation\n",
    "mean_imputer = SimpleImputer(strategy='mean')\n",
    "EmployeeData_mean = pd.DataFrame(mean_imputer.fit_transform(EmployeeData), columns=EmployeeData.columns)"
   ]
  },
  {
   "cell_type": "code",
   "execution_count": 9,
   "id": "68fb43f8-a03e-4c1f-b472-ac101d9cfa3e",
   "metadata": {
    "tags": []
   },
   "outputs": [
    {
     "name": "stdout",
     "output_type": "stream",
     "text": [
      "    Age  YearsAtCompany  JobSatisfaction   Salary\n",
      "0  25.0            3.00              7.5  50000.0\n",
      "1  27.0            4.00              7.0  55500.0\n",
      "2  29.0            3.25              8.0  54000.0\n",
      "3  31.0            2.00              9.0  58000.0\n",
      "4  28.0            4.00              6.0  60000.0\n"
     ]
    }
   ],
   "source": [
    "print(EmployeeData_mean)"
   ]
  },
  {
   "cell_type": "code",
   "execution_count": 10,
   "id": "8bc85400-0c4d-4c43-8af3-eeeb71993e9b",
   "metadata": {
    "tags": []
   },
   "outputs": [],
   "source": [
    "# Median Imputation\n",
    "median_imputer = SimpleImputer(strategy='median')\n",
    "EmployeeData_median = pd.DataFrame(median_imputer.fit_transform(EmployeeData), columns=EmployeeData.columns)\n"
   ]
  },
  {
   "cell_type": "code",
   "execution_count": 11,
   "id": "01837296-a6bc-4d15-a8cc-95c804b86a5b",
   "metadata": {
    "tags": []
   },
   "outputs": [
    {
     "name": "stdout",
     "output_type": "stream",
     "text": [
      "    Age  YearsAtCompany  JobSatisfaction   Salary\n",
      "0  25.0             3.0              7.5  50000.0\n",
      "1  27.0             4.0              7.0  56000.0\n",
      "2  29.0             3.5              8.0  54000.0\n",
      "3  31.0             2.0              9.0  58000.0\n",
      "4  28.0             4.0              6.0  60000.0\n"
     ]
    }
   ],
   "source": [
    "print(EmployeeData_median)"
   ]
  },
  {
   "cell_type": "code",
   "execution_count": 19,
   "id": "0fe220ac-df18-4d53-a1dc-d69f133add79",
   "metadata": {
    "tags": []
   },
   "outputs": [],
   "source": [
    "# KNN Imputation\n",
    "knn_imputer = KNNImputer(n_neighbors=2)\n",
    "EmployeeData_knn = pd.DataFrame(knn_imputer.fit_transform(EmployeeData), columns=EmployeeData.columns)\n"
   ]
  },
  {
   "cell_type": "code",
   "execution_count": 20,
   "id": "8d278f42-91c8-4cda-b343-84af0dcfc7de",
   "metadata": {
    "tags": []
   },
   "outputs": [
    {
     "name": "stdout",
     "output_type": "stream",
     "text": [
      "    Age  YearsAtCompany  JobSatisfaction   Salary\n",
      "0  25.0             3.0              7.5  50000.0\n",
      "1  27.0             4.0              7.0  57000.0\n",
      "2  29.0             3.0              8.0  54000.0\n",
      "3  31.0             2.0              9.0  58000.0\n",
      "4  29.0             4.0              6.0  60000.0\n"
     ]
    }
   ],
   "source": [
    "print(EmployeeData_knn)"
   ]
  },
  {
   "cell_type": "code",
   "execution_count": null,
   "id": "99c7231e-25ae-4f78-a8fb-ec5baa5f7f22",
   "metadata": {},
   "outputs": [],
   "source": []
  },
  {
   "cell_type": "code",
   "execution_count": null,
   "id": "ff1e27be-67e2-4f88-aab7-795f544708ce",
   "metadata": {},
   "outputs": [],
   "source": []
  }
 ],
 "metadata": {
  "kernelspec": {
   "display_name": "Python 3 (ipykernel)",
   "language": "python",
   "name": "python3"
  },
  "language_info": {
   "codemirror_mode": {
    "name": "ipython",
    "version": 3
   },
   "file_extension": ".py",
   "mimetype": "text/x-python",
   "name": "python",
   "nbconvert_exporter": "python",
   "pygments_lexer": "ipython3",
   "version": "3.11.5"
  }
 },
 "nbformat": 4,
 "nbformat_minor": 5
}
